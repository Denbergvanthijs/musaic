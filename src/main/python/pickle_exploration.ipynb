{
 "cells": [
  {
   "cell_type": "code",
   "execution_count": 1,
   "metadata": {},
   "outputs": [],
   "source": [
    "import os\n",
    "import pickle"
   ]
  },
  {
   "cell_type": "code",
   "execution_count": 2,
   "metadata": {},
   "outputs": [],
   "source": [
    "# Load pickles from lessfiles folder\n",
    "\n",
    "fp_music = \"./v9/Data/lessfiles\"\n",
    "\n",
    "# Combine all three pickles\n",
    "files = os.listdir(fp_music)\n",
    "files = [f for f in files if f.endswith(\".pkl\")]\n",
    "files = [os.path.join(fp_music, f) for f in files]\n",
    "\n",
    "if os.name == \"nt\":\n",
    "    import pathlib\n",
    "    temp = pathlib.PosixPath  # Save the PosixPath class for later to restore it\n",
    "    pathlib.PosixPath = pathlib.WindowsPath\n",
    "\n",
    "data = []\n",
    "for file in files:\n",
    "    with open(file, \"rb\") as f:\n",
    "        data.append(pickle.load(f))\n",
    "\n",
    "if os.name == \"nt\":\n",
    "    pathlib.PosixPath = temp  # Restore the PosixPath class\n",
    "\n",
    "# Combine all three pickles\n",
    "data = [item for sublist in data for item in sublist]\n"
   ]
  },
  {
   "cell_type": "code",
   "execution_count": 3,
   "metadata": {},
   "outputs": [
    {
     "data": {
      "text/plain": [
       "dict_keys(['corpus', 'name', 'instruments', 0, 1, 2, 3])"
      ]
     },
     "execution_count": 3,
     "metadata": {},
     "output_type": "execute_result"
    }
   ],
   "source": [
    "data[0].keys()"
   ]
  },
  {
   "cell_type": "code",
   "execution_count": 4,
   "metadata": {},
   "outputs": [
    {
     "data": {
      "text/plain": [
       "'music21'"
      ]
     },
     "execution_count": 4,
     "metadata": {},
     "output_type": "execute_result"
    }
   ],
   "source": [
    "data[0][\"corpus\"]"
   ]
  },
  {
   "cell_type": "code",
   "execution_count": 5,
   "metadata": {},
   "outputs": [
    {
     "data": {
      "text/plain": [
       "WindowsPath('/home/al165/.local/lib/python3.7/site-packages/music21/corpus/bach/bwv101.7.mxl')"
      ]
     },
     "execution_count": 5,
     "metadata": {},
     "output_type": "execute_result"
    }
   ],
   "source": [
    "data[0][\"name\"]"
   ]
  },
  {
   "cell_type": "code",
   "execution_count": 6,
   "metadata": {},
   "outputs": [
    {
     "data": {
      "text/plain": [
       "4"
      ]
     },
     "execution_count": 6,
     "metadata": {},
     "output_type": "execute_result"
    }
   ],
   "source": [
    "data[0][\"instruments\"]"
   ]
  },
  {
   "cell_type": "code",
   "execution_count": 7,
   "metadata": {},
   "outputs": [
    {
     "data": {
      "text/plain": [
       "(dict_keys(['metaData', 'rhythm', 'melody']),\n",
       " dict_keys(['metaData', 'rhythm', 'melody']),\n",
       " dict_keys(['metaData', 'rhythm', 'melody']),\n",
       " dict_keys(['metaData', 'rhythm', 'melody']))"
      ]
     },
     "execution_count": 7,
     "metadata": {},
     "output_type": "execute_result"
    }
   ],
   "source": [
    "data[0][0].keys(), data[0][1].keys(), data[0][2].keys(), data[0][3].keys()"
   ]
  },
  {
   "cell_type": "code",
   "execution_count": 8,
   "metadata": {},
   "outputs": [
    {
     "data": {
      "text/plain": [
       "(13, 13, 13, 13)"
      ]
     },
     "execution_count": 8,
     "metadata": {},
     "output_type": "execute_result"
    }
   ],
   "source": [
    "len(data[0][0][\"metaData\"]), len(data[0][1][\"metaData\"]), len(data[0][2][\"metaData\"]), len(data[0][3][\"metaData\"])"
   ]
  },
  {
   "cell_type": "code",
   "execution_count": 9,
   "metadata": {},
   "outputs": [
    {
     "data": {
      "text/plain": [
       "{'ts': '4/4',\n",
       " 'span': 7,\n",
       " 'jump': 2.75,\n",
       " 'cDens': 0.0,\n",
       " 'cDepth': 0,\n",
       " 'tCent': 64.55555555555556,\n",
       " 'rDens': 0.8333333333333334,\n",
       " 'pos': 0.23076923076923078,\n",
       " 'expression': 0}"
      ]
     },
     "execution_count": 9,
     "metadata": {},
     "output_type": "execute_result"
    }
   ],
   "source": [
    "data[0][0][\"metaData\"][0]"
   ]
  },
  {
   "cell_type": "code",
   "execution_count": 10,
   "metadata": {},
   "outputs": [
    {
     "name": "stdout",
     "output_type": "stream",
     "text": [
      "13 length\n"
     ]
    },
    {
     "data": {
      "text/plain": [
       "[((0.0,), (), (), (0.0,)),\n",
       " ((0.0,), (0.0,), (0.0,), (0.0,)),\n",
       " ((0.0,), (0.0,), (0.0,), (0.0,)),\n",
       " ((0.0,), (0.0, 0.5), (0.0,), (0.0,)),\n",
       " ((0.0,), (0.0,), (0.0,), (0.0,)),\n",
       " ((0.0,), (0.0,), (0.0,), (0.0,)),\n",
       " ((0.0, 0.5), (0.0,), (0.0,), (0.0,)),\n",
       " ((0.0,), (0.0, 0.5), (0.0,), (0.0,)),\n",
       " ((0.0, 0.5), (0.0, 0.5), (0.0,), (0.0,)),\n",
       " ((0.0,), (0.0,), (0.0,), (0.0,)),\n",
       " ((0.0,), (0.0,), (0.0,), (0.0,)),\n",
       " ((0.0,), (0.0,), (0.0,), (0.0,)),\n",
       " ((0.0, 0.5), (0.5,), (0.0,), ())]"
      ]
     },
     "execution_count": 10,
     "metadata": {},
     "output_type": "execute_result"
    }
   ],
   "source": [
    "print(len(data[0][0][\"rhythm\"]), \"length\")\n",
    "\n",
    "data[0][1][\"rhythm\"]"
   ]
  },
  {
   "cell_type": "code",
   "execution_count": 11,
   "metadata": {},
   "outputs": [
    {
     "data": {
      "text/plain": [
       "dict_keys(['notes', 'octaves', 'chords'])"
      ]
     },
     "execution_count": 11,
     "metadata": {},
     "output_type": "execute_result"
    }
   ],
   "source": [
    "data[0][0][\"melody\"].keys()"
   ]
  },
  {
   "cell_type": "code",
   "execution_count": 12,
   "metadata": {},
   "outputs": [
    {
     "data": {
      "text/plain": [
       "13"
      ]
     },
     "execution_count": 12,
     "metadata": {},
     "output_type": "execute_result"
    }
   ],
   "source": [
    "len(data[0][0][\"melody\"][\"notes\"])"
   ]
  },
  {
   "cell_type": "code",
   "execution_count": 13,
   "metadata": {},
   "outputs": [],
   "source": [
    "# Save data[0] as json file\n",
    "\n",
    "import json\n",
    "\n",
    "data[0][\"name\"] = str(data[0][\"name\"])\n",
    "with open(\"data_0.json\", \"w\") as f:\n",
    "    json.dump(data[0], f)"
   ]
  },
  {
   "cell_type": "code",
   "execution_count": 14,
   "metadata": {},
   "outputs": [],
   "source": [
    "# Extract the name of each entry in the data\n",
    "names = [str(d[\"name\"]) for d in data]\n",
    "\n",
    "# Strip last two from WindowsPath objects\n",
    "names_stripped = [path.split(\"\\\\\")[-2] for path in names]\n",
    "names_stripped_stripped = [path.split(\".\")[0] for path in names_stripped]"
   ]
  },
  {
   "cell_type": "code",
   "execution_count": 15,
   "metadata": {},
   "outputs": [
    {
     "data": {
      "text/plain": [
       "(2, {'airdsAirs', 'bach'})"
      ]
     },
     "execution_count": 15,
     "metadata": {},
     "output_type": "execute_result"
    }
   ],
   "source": [
    "len(set(names_stripped_stripped)), set(names_stripped_stripped)"
   ]
  },
  {
   "cell_type": "markdown",
   "metadata": {},
   "source": []
  },
  {
   "cell_type": "code",
   "execution_count": 17,
   "metadata": {},
   "outputs": [
    {
     "data": {
      "text/plain": [
       "Counter({'bach': 128, 'airdsAirs': 172})"
      ]
     },
     "execution_count": 17,
     "metadata": {},
     "output_type": "execute_result"
    }
   ],
   "source": [
    "# Counter of names_stripped_stripped\n",
    "\n",
    "from collections import Counter\n",
    "counts = Counter(names_stripped_stripped)\n",
    "counts"
   ]
  }
 ],
 "metadata": {
  "kernelspec": {
   "display_name": "Python 3",
   "language": "python",
   "name": "python3"
  },
  "language_info": {
   "codemirror_mode": {
    "name": "ipython",
    "version": 3
   },
   "file_extension": ".py",
   "mimetype": "text/x-python",
   "name": "python",
   "nbconvert_exporter": "python",
   "pygments_lexer": "ipython3",
   "version": "3.8.10"
  },
  "orig_nbformat": 4,
  "vscode": {
   "interpreter": {
    "hash": "570feb405e2e27c949193ac68f46852414290d515b0ba6e5d90d076ed2284471"
   }
  }
 },
 "nbformat": 4,
 "nbformat_minor": 2
}
